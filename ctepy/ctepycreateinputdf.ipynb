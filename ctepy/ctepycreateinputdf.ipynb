{
 "cells": [
  {
   "cell_type": "code",
   "execution_count": 18,
   "metadata": {
    "ExecuteTime": {
     "end_time": "2017-01-26T13:58:52.260540",
     "start_time": "2017-01-26T13:58:52.149389"
    },
    "collapsed": true
   },
   "outputs": [],
   "source": [
    "import pandas as pd\n",
    "import numpy as np\n",
    "from collections import OrderedDict\n",
    "from scipy import constants as const"
   ]
  },
  {
   "cell_type": "code",
   "execution_count": 31,
   "metadata": {
    "ExecuteTime": {
     "end_time": "2017-01-26T14:12:45.627368",
     "start_time": "2017-01-26T14:12:45.618303"
    },
    "collapsed": true
   },
   "outputs": [],
   "source": [
    "switcheskeys   = ['RFswitch','betatronSwitch','raddampSwitch','IBSswitch','collimationSwitch','blowupSwitch','collisionSwitch','writeAllCoordSwitch', 'writeMountSwitch']\n",
    "ringparamskeys = ['aatomb2', 'qatomb2', 'aatomb2', 'qatomb2', 'proton', 'ion', 'thib', 'nturns', 'nMacro', 'timeRatio', 'nwrite', 'gammat', 'circ', 'gamma1', \n",
    "                  'gamma2', 'vrfb2', 'nharmb2', 'vrf2b2', 'nharm2b2', 'vrfb2', 'nharmb2', 'vrf2b2', 'nharm2b2', 'tunex1', 'tuney1', 'chromx1', 'chromy1', \n",
    "                  'tunex2', 'tuney2', 'chromx2', 'chromy2', 'dqmin1', 'dqmin2', 'k2L1', 'k2Lskew2', 'k2L2', 'k2Lskew1', 'tfsb2', 'tfsb2']\n",
    "startingconditionskeys = ['tauhat1', 'tauhat2', 'longcoor', 'transcoor', 'bunchLenPrecis', 'power', 'alint']\n",
    "radiationdampingkeys   = ['radMethod', 'tradlong', 'tradperp', 'siglong', 'sigperp', 'rho0']\n",
    "ibsdictkeys            = ['ibsMethod', 'coupleIBS', 'coulombLog', 'fracibstot', 'nbins', 'piwinski', 'bane', 'intfile']\n",
    "colldictkeys           = ['refEmxy', 'cutoffAmpl', 'collimAvgSwitch', 'emitMethod', 'nSigCutBeta', 'nSigCutMom', 'betaxMom', 'dispxMom']\n",
    "blowupdictkeys         = ['pxKickFac', 'pyKickFac', 'blowupMethod']\n",
    "collisiondictkeys      = ['collRoutine', 'sigI', 'longIntBins', 'ips_leveling', 'ips_leveling_values']"
   ]
  },
  {
   "cell_type": "markdown",
   "metadata": {
    "heading_collapsed": true
   },
   "source": [
    "# Process and writing switches "
   ]
  },
  {
   "cell_type": "code",
   "execution_count": 19,
   "metadata": {
    "ExecuteTime": {
     "end_time": "2017-01-26T13:58:52.462683",
     "start_time": "2017-01-26T13:58:52.457374"
    },
    "collapsed": true,
    "hidden": true
   },
   "outputs": [],
   "source": [
    "switches                        = OrderedDict()\n",
    "switches['RFswitch']            = True    # RFswitch (set to 1 to activate synchrotron motion)\n",
    "switches['betatronSwitch']      = True    # betatronSwitch (set to 1 to activate betatron motion)\n",
    "switches['raddampSwitch']       = True    # raddampSwitch (set to 1 to activate radiation damping and quantum excitation)\n",
    "switches['IBSswitch']           = True    # IBSswitch (set to 1 to activate ibs)\n",
    "switches['collimationSwitch']   = True    # collimationSwitch (set to 1 to activate losses on aperture cuts)\n",
    "switches['blowupSwitch']        = False    # blowupSwitch (set to 1 to activate artificial blowup - ADT loss maps etc)\n",
    "switches['collisionSwitch']     = True    # collisionSwitch (set to 1 to activate collisions)\n",
    "switches['writeAllCoordSwitch'] = False    # writeAllCoordSwitch\n",
    "switches['writeMountSwitch']    = False    # writeMountSwitch"
   ]
  },
  {
   "cell_type": "markdown",
   "metadata": {
    "heading_collapsed": true
   },
   "source": [
    "# Ring parameters "
   ]
  },
  {
   "cell_type": "code",
   "execution_count": 20,
   "metadata": {
    "ExecuteTime": {
     "end_time": "2017-01-26T13:58:52.792110",
     "start_time": "2017-01-26T13:58:52.732057"
    },
    "collapsed": false,
    "hidden": true
   },
   "outputs": [],
   "source": [
    "# constants\n",
    "protonmass                      = const.physical_constants['proton mass energy equivalent in MeV'][0]/1000 # GeV\n",
    "electroncharge                  = const.physical_constants['elementary charge'][0]\n",
    "\n",
    "ringparams                      = OrderedDict()\n",
    "ringparams['aatomb1']           = 208         # atomic number of particle in beam 1\n",
    "ringparams['aatomb2']           = 208         # atomic number of particle in beam 2\n",
    "\n",
    "ringparams['nturns']            = 500       # number of turns to simulate in the machine\n",
    "ringparams['nMacro']            = 1000      # number of simulated particles\n",
    "ringparams['timeRatio']         = 20000       # (=real turns/sim.turns)\n",
    "ringparams['nwrite']            = 100         # step interval in turns to calculate output variables and write them to files\n",
    "\n",
    "ringparams['vrfb1']             = 0.0\n",
    "ringparams['nharmb1']           = 360\n",
    "ringparams['vrf2b1']            = -12.0e6\n",
    "ringparams['nharm2b1']          = 35640\n",
    "\n",
    "ringparams['vrfb2']             = 0.0\n",
    "ringparams['nharmb2']           = 360\n",
    "ringparams['vrf2b2']            = -12.0e6\n",
    "ringparams['nharm2b2']          = 35640\n",
    "\n",
    "# set general parameters\n",
    "ringparams['proton']            = protonmass\n",
    "ringparams['ion']               = 193.7291748489224\n",
    "ringparams['thib']              = 2.5e-9      # RF period\n",
    "ringparams['dqmin1']            = 0.0     # (coupling between x-py, y-px)\n",
    "ringparams['dqmin2']            = 0.0      # (coupling between x-py, y-px)\n",
    "ringparams['k2L1']              = 1.1       # (thin sextupole strengths)\n",
    "ringparams['k2Lskew1']          = 0.0        # (thin sextupole strengths)\n",
    "ringparams['k2L2']              = 1.1       # (thin sextupole strengths)\n",
    "ringparams['k2Lskew2']          = 0.0        # (thin sextupole strengths)\n",
    "\n",
    "\n",
    "# Some of the parameters are determined directly from tfs files\n",
    "# so it is very important to set the correct ones for BOTH beams !!!\n",
    "ringparams['tfsb1']             = 'lhcb1-PbPb-6500.tfs'\n",
    "ringparams['tfsb2']             = 'lhcb2-PbPb-6500.tfs'\n",
    "# getting some of the settings from the tfs files\n",
    "dftfsb1head                     = pd.read_csv(ringparams['tfsb1'],nrows=44,delim_whitespace=True)\n",
    "ringparams['tunex1']            = float(dftfsb1head[dftfsb1head['NAME']=='Q1']['TWISS'].values[0])\n",
    "ringparams['tuney1']            = float(dftfsb1head[dftfsb1head['NAME']=='Q2']['TWISS'].values[0])\n",
    "ringparams['chromx1']           = float(dftfsb1head[dftfsb1head['NAME']=='DQ1']['TWISS'].values[0])\n",
    "ringparams['chromy1']           = float(dftfsb1head[dftfsb1head['NAME']=='DQ2']['TWISS'].values[0])\n",
    "\n",
    "dftfsb2head                     = pd.read_csv(ringparams['tfsb2'],nrows=44,delim_whitespace=True)\n",
    "ringparams['tunex2']            = float(dftfsb2head[dftfsb2head['NAME']=='Q1']['TWISS'].values[0])\n",
    "ringparams['tuney2']            = float(dftfsb2head[dftfsb2head['NAME']=='Q2']['TWISS'].values[0])\n",
    "ringparams['chromx2']           = float(dftfsb2head[dftfsb2head['NAME']=='DQ1']['TWISS'].values[0])\n",
    "ringparams['chromy2']           = float(dftfsb2head[dftfsb2head['NAME']=='DQ2']['TWISS'].values[0])\n",
    "\n",
    "energy                          = float(dftfsb1head[dftfsb1head['NAME']=='ENERGY']['TWISS'].values[0])/float(dftfsb1head[dftfsb1head['NAME']=='CHARGE']['TWISS'].values[0])\n",
    "ringparams['gammat']            = float(dftfsb1head[dftfsb1head['NAME']=='GAMMATR']['TWISS'].values[0])\n",
    "ringparams['circ']              = float(dftfsb1head[dftfsb1head['NAME']=='LENGTH']['TWISS'].values[0])\n",
    "ringparams['qatomb1']           = float(dftfsb1head[dftfsb1head['NAME']=='CHARGE']['TWISS'].values[0])\n",
    "ringparams['qatomb2']           = float(dftfsb2head[dftfsb2head['NAME']=='CHARGE']['TWISS'].values[0])\n",
    "ringparams['gamma1']            = float(dftfsb1head[dftfsb1head['NAME']=='GAMMA']['TWISS'].values[0])\n",
    "ringparams['gamma2']            = float(dftfsb2head[dftfsb2head['NAME']=='GAMMA']['TWISS'].values[0])"
   ]
  },
  {
   "cell_type": "markdown",
   "metadata": {
    "heading_collapsed": true
   },
   "source": [
    "# Radiation damping parameters "
   ]
  },
  {
   "cell_type": "code",
   "execution_count": 21,
   "metadata": {
    "ExecuteTime": {
     "end_time": "2017-01-26T13:59:17.385350",
     "start_time": "2017-01-26T13:59:17.380185"
    },
    "collapsed": true,
    "hidden": true
   },
   "outputs": [],
   "source": [
    "radiationdamping                     = OrderedDict()\n",
    "radiationdamping['radMethod']        = 'lattic'          # adMethod: can be manual (input next line), approx (smooth latt. I4=0), or lattic (rad. int., twiss file required)\n",
    "radiationdamping['tradlong']         = 23519.0           # in sec\n",
    "radiationdamping['tradperp']         = 47072.0           # in sec\n",
    "radiationdamping['siglong']          = 4.64e-12          # (eq. sigma from raddamp-exit.)\n",
    "radiationdamping['sigperp']          = 7.43e-8           # (m) (only used with manual method)\n",
    "radiationdamping['rho0']             = 2784.32           # (dipole bend. radius in m, used only with approx)"
   ]
  },
  {
   "cell_type": "markdown",
   "metadata": {
    "heading_collapsed": true
   },
   "source": [
    "# IBS settings "
   ]
  },
  {
   "cell_type": "code",
   "execution_count": 24,
   "metadata": {
    "ExecuteTime": {
     "end_time": "2017-01-26T14:00:30.130005",
     "start_time": "2017-01-26T14:00:30.124795"
    },
    "collapsed": true,
    "hidden": true
   },
   "outputs": [],
   "source": [
    "ibsdict                              = OrderedDict()\n",
    "ibsdict['ibsMethod']                 = 'nagaitsev'       # can be nagaitsev, piwiSmooth, piwLattice, modPiwLatt, baneApprox or interpolat\n",
    "ibsdict['coupleIBS']                 = False                 # coupleIBS (0 gives separate growth rates, 1 gives same growth in x and y)\n",
    "ibsdict['coulombLog']                = 20.0              # (used in nagaitsev method)\n",
    "ibsdict['fracibstot']                = 1                 # factor of ibs strength\n",
    "ibsdict['nbins']                     = 500               # number of bins\n",
    "ibsdict['piwinski']                  = '/home/roderik/My_CERN_work/piwinski-ibs/ibs-rates-LHC-collision.dat'            \n",
    "ibsdict['bane']                      = '/home/roderik/My_CERN_work/bane-ibs/gBaneTab.dat'              \n",
    "ibsdict['intfile']                   = 'interpolate.dat'"
   ]
  },
  {
   "cell_type": "markdown",
   "metadata": {
    "heading_collapsed": true
   },
   "source": [
    "# Collimation settings "
   ]
  },
  {
   "cell_type": "code",
   "execution_count": 26,
   "metadata": {
    "ExecuteTime": {
     "end_time": "2017-01-26T14:01:49.524512",
     "start_time": "2017-01-26T14:01:49.519138"
    },
    "collapsed": true,
    "hidden": true
   },
   "outputs": [],
   "source": [
    "colldict                     = OrderedDict()\n",
    "colldict['refEmxy']          = 5.06158E-10\n",
    "colldict['cutoffAmpl']       = 12.0 #5.7           # (ref. sigma at which init. distr. is cut)\n",
    "colldict['collimAvgSwitch']  = 0            # \n",
    "colldict['emitMethod']       = 'stdev'       # (stdev,stcal,exfit)\n",
    "colldict['nSigCutBeta']      = 12.0#5.7           # (ref. sigma at which init. distr. is cut)\n",
    "colldict['nSigCutMom']       = 10.0          # (momentum cut in beta-sigma)\n",
    "colldict['betaxMom']         = 131.7        \n",
    "colldict['dispxMom']         = 2.15         "
   ]
  },
  {
   "cell_type": "markdown",
   "metadata": {
    "heading_collapsed": true
   },
   "source": [
    "#  Blowup"
   ]
  },
  {
   "cell_type": "code",
   "execution_count": 28,
   "metadata": {
    "ExecuteTime": {
     "end_time": "2017-01-26T14:02:21.905764",
     "start_time": "2017-01-26T14:02:21.901934"
    },
    "collapsed": true,
    "hidden": true
   },
   "outputs": [],
   "source": [
    "blowupdict                 = OrderedDict()\n",
    "blowupdict['pxKickFac']    = 0.02 \n",
    "blowupdict['pyKickFac']    = 0.0\n",
    "blowupdict['blowupMethod'] = 'unSum'         # (unifo,gauss,unSum)"
   ]
  },
  {
   "cell_type": "markdown",
   "metadata": {
    "heading_collapsed": true
   },
   "source": [
    "# Collisions"
   ]
  },
  {
   "cell_type": "code",
   "execution_count": 30,
   "metadata": {
    "ExecuteTime": {
     "end_time": "2017-01-26T14:02:51.078874",
     "start_time": "2017-01-26T14:02:51.074030"
    },
    "collapsed": true,
    "hidden": true
   },
   "outputs": [],
   "source": [
    "collisiondict                      = OrderedDict()\n",
    "collisiondict['collRoutine']       = '6a'           #(1d is slow but without assumptions on distributions, 6a is fast with assumed Gaussian transverse)\n",
    "collisiondict['sigI']              = 2.0          # (cross section for particle removal in collisions) \n",
    "collisiondict['longIntBins']       = 100\n",
    "collisiondict['ips_leveling']      = {'IP1':False,'IP2':True,'IP5':False,'IP8':False}# leveling at IP1,IP2,IP5,IP8\n",
    "collisiondict['ips_leveling_values'] = {'IP2':2.27e24}"
   ]
  },
  {
   "cell_type": "markdown",
   "metadata": {
    "heading_collapsed": true
   },
   "source": [
    "# Some additional starting parameters"
   ]
  },
  {
   "cell_type": "code",
   "execution_count": 33,
   "metadata": {
    "ExecuteTime": {
     "end_time": "2017-01-26T14:13:50.913919",
     "start_time": "2017-01-26T14:13:50.908668"
    },
    "collapsed": true,
    "hidden": true
   },
   "outputs": [],
   "source": [
    "startingconditions                   = OrderedDict()\n",
    "startingconditions['tauhat1']        = 1.25e-9  # half of bucket length\n",
    "startingconditions['tauhat2']        = 1.25e-9\n",
    "startingconditions['longcoor']       = 3                           # (0:parabolic with smokering, 1: read from file, 2: bi-Gaussian, 3: pseudo-Gaussian,exactly matched)\n",
    "startingconditions['transcoor']      = 2                           # transvCoordMethod (1 or 2)\n",
    "startingconditions['bunchLenPrecis'] = 0.01                        # (for longCoordMethod=3)\n",
    "startingconditions['power']          = 0.75                        # (for longCoordMethod=0)\n",
    "startingconditions['alint']          = 5                           # (for longCoordMethod=0)"
   ]
  },
  {
   "cell_type": "markdown",
   "metadata": {},
   "source": [
    "# Create dataframe and write to csv for input  "
   ]
  },
  {
   "cell_type": "code",
   "execution_count": 37,
   "metadata": {
    "ExecuteTime": {
     "end_time": "2017-01-26T14:14:38.628299",
     "start_time": "2017-01-26T14:14:38.595237"
    },
    "collapsed": false
   },
   "outputs": [],
   "source": [
    "inputdf = pd.DataFrame()\n",
    "inputdict = switches.copy()\n",
    "inputdict.update(ringparams)\n",
    "inputdict.update(startingconditions)\n",
    "inputdict.update(radiationdamping)\n",
    "inputdict.update(ibsdict)\n",
    "inputdict.update(colldict)\n",
    "inputdict.update(blowupdict)\n",
    "inputdict.update(collisiondict)\n",
    "inputdict\n",
    "rowtoadd = pd.DataFrame(inputdict,index=[0])\n",
    "rowtoadd['ips_leveling'] = str(collisiondict['ips_leveling'])\n",
    "rowtoadd['ips_leveling_values'] = str(collisiondict['ips_leveling_values'])\n",
    "inputdf = inputdf.append(inputdict,ignore_index=True)"
   ]
  },
  {
   "cell_type": "code",
   "execution_count": 86,
   "metadata": {
    "ExecuteTime": {
     "end_time": "2017-01-26T14:37:02.172086",
     "start_time": "2017-01-26T14:37:01.939290"
    },
    "collapsed": false
   },
   "outputs": [],
   "source": [
    "inputdf.to_csv('ctefsinput.csv',index=False)"
   ]
  }
 ],
 "metadata": {
  "anaconda-cloud": {},
  "kernelspec": {
   "display_name": "Python [Root]",
   "language": "python",
   "name": "Python [Root]"
  },
  "language_info": {
   "codemirror_mode": {
    "name": "ipython",
    "version": 2
   },
   "file_extension": ".py",
   "mimetype": "text/x-python",
   "name": "python",
   "nbconvert_exporter": "python",
   "pygments_lexer": "ipython2",
   "version": "2.7.12"
  }
 },
 "nbformat": 4,
 "nbformat_minor": 0
}
